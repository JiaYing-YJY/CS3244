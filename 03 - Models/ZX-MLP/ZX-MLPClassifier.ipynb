{
 "cells": [
  {
   "cell_type": "markdown",
   "metadata": {},
   "source": [
    "# **Multi-layer Perceptron**\n",
    "For classification of Processed Energy Dataset."
   ]
  },
  {
   "cell_type": "code",
   "execution_count": 14,
   "metadata": {},
   "outputs": [],
   "source": [
    "# Import the standard tools for pythonic data analysis. \n",
    "import csv\n",
    "import math\n",
    "import random\n",
    "import numpy as np \n",
    "import pandas as pd "
   ]
  },
  {
   "cell_type": "markdown",
   "metadata": {},
   "source": [
    "## Initial import and basic understanding of data"
   ]
  },
  {
   "cell_type": "code",
   "execution_count": 15,
   "metadata": {},
   "outputs": [],
   "source": [
    "# Import the final dataset as dataframe from csv\n",
    "df = pd.read_csv('/Users/liangzhengxin/Library/Mobile Documents/com~apple~CloudDocs/Grand Unified Theory/Y3S1 NUS 2022/CS3244 Machine Learning/Project/Datasets/Energy/train/fixed_data_train.csv',sep=',',low_memory=False) # Separate on semicolons"
   ]
  },
  {
   "cell_type": "code",
   "execution_count": 16,
   "metadata": {},
   "outputs": [
    {
     "data": {
      "text/html": [
       "<div>\n",
       "<style scoped>\n",
       "    .dataframe tbody tr th:only-of-type {\n",
       "        vertical-align: middle;\n",
       "    }\n",
       "\n",
       "    .dataframe tbody tr th {\n",
       "        vertical-align: top;\n",
       "    }\n",
       "\n",
       "    .dataframe thead th {\n",
       "        text-align: right;\n",
       "    }\n",
       "</style>\n",
       "<table border=\"1\" class=\"dataframe\">\n",
       "  <thead>\n",
       "    <tr style=\"text-align: right;\">\n",
       "      <th></th>\n",
       "      <th>Unnamed: 0</th>\n",
       "      <th>client_id</th>\n",
       "      <th>district</th>\n",
       "      <th>client_catg</th>\n",
       "      <th>region</th>\n",
       "      <th>region_group</th>\n",
       "      <th>creation_date_day</th>\n",
       "      <th>creation_date_month</th>\n",
       "      <th>creation_date_year</th>\n",
       "      <th>no_months_as_client</th>\n",
       "      <th>...</th>\n",
       "      <th>tally_check_false</th>\n",
       "      <th>sum_tally_value</th>\n",
       "      <th>min_tally_value</th>\n",
       "      <th>max_tally_value</th>\n",
       "      <th>mean_tally_value</th>\n",
       "      <th>counter_type</th>\n",
       "      <th>last_year</th>\n",
       "      <th>last_month</th>\n",
       "      <th>last_day</th>\n",
       "      <th>last_day_is_weekday</th>\n",
       "    </tr>\n",
       "  </thead>\n",
       "  <tbody>\n",
       "    <tr>\n",
       "      <th>0</th>\n",
       "      <td>0</td>\n",
       "      <td>train_Client_0</td>\n",
       "      <td>60</td>\n",
       "      <td>11</td>\n",
       "      <td>101</td>\n",
       "      <td>2</td>\n",
       "      <td>31</td>\n",
       "      <td>12</td>\n",
       "      <td>1994</td>\n",
       "      <td>290.568595</td>\n",
       "      <td>...</td>\n",
       "      <td>0</td>\n",
       "      <td>0</td>\n",
       "      <td>0</td>\n",
       "      <td>0</td>\n",
       "      <td>0.0</td>\n",
       "      <td>1</td>\n",
       "      <td>2019</td>\n",
       "      <td>3</td>\n",
       "      <td>19</td>\n",
       "      <td>1</td>\n",
       "    </tr>\n",
       "    <tr>\n",
       "      <th>1</th>\n",
       "      <td>1</td>\n",
       "      <td>train_Client_1</td>\n",
       "      <td>69</td>\n",
       "      <td>11</td>\n",
       "      <td>107</td>\n",
       "      <td>2</td>\n",
       "      <td>29</td>\n",
       "      <td>5</td>\n",
       "      <td>2002</td>\n",
       "      <td>202.123247</td>\n",
       "      <td>...</td>\n",
       "      <td>0</td>\n",
       "      <td>0</td>\n",
       "      <td>0</td>\n",
       "      <td>0</td>\n",
       "      <td>0.0</td>\n",
       "      <td>1</td>\n",
       "      <td>2019</td>\n",
       "      <td>4</td>\n",
       "      <td>2</td>\n",
       "      <td>1</td>\n",
       "    </tr>\n",
       "    <tr>\n",
       "      <th>2</th>\n",
       "      <td>2</td>\n",
       "      <td>train_Client_10</td>\n",
       "      <td>62</td>\n",
       "      <td>11</td>\n",
       "      <td>301</td>\n",
       "      <td>3</td>\n",
       "      <td>13</td>\n",
       "      <td>3</td>\n",
       "      <td>1986</td>\n",
       "      <td>397.642662</td>\n",
       "      <td>...</td>\n",
       "      <td>0</td>\n",
       "      <td>0</td>\n",
       "      <td>0</td>\n",
       "      <td>0</td>\n",
       "      <td>0.0</td>\n",
       "      <td>1</td>\n",
       "      <td>2019</td>\n",
       "      <td>5</td>\n",
       "      <td>2</td>\n",
       "      <td>1</td>\n",
       "    </tr>\n",
       "    <tr>\n",
       "      <th>3</th>\n",
       "      <td>3</td>\n",
       "      <td>train_Client_100</td>\n",
       "      <td>69</td>\n",
       "      <td>11</td>\n",
       "      <td>105</td>\n",
       "      <td>2</td>\n",
       "      <td>7</td>\n",
       "      <td>11</td>\n",
       "      <td>1996</td>\n",
       "      <td>190.591183</td>\n",
       "      <td>...</td>\n",
       "      <td>0</td>\n",
       "      <td>0</td>\n",
       "      <td>0</td>\n",
       "      <td>0</td>\n",
       "      <td>0.0</td>\n",
       "      <td>1</td>\n",
       "      <td>2012</td>\n",
       "      <td>9</td>\n",
       "      <td>25</td>\n",
       "      <td>1</td>\n",
       "    </tr>\n",
       "    <tr>\n",
       "      <th>4</th>\n",
       "      <td>4</td>\n",
       "      <td>train_Client_1000</td>\n",
       "      <td>62</td>\n",
       "      <td>11</td>\n",
       "      <td>303</td>\n",
       "      <td>3</td>\n",
       "      <td>14</td>\n",
       "      <td>10</td>\n",
       "      <td>2014</td>\n",
       "      <td>56.083287</td>\n",
       "      <td>...</td>\n",
       "      <td>0</td>\n",
       "      <td>0</td>\n",
       "      <td>0</td>\n",
       "      <td>0</td>\n",
       "      <td>0.0</td>\n",
       "      <td>1</td>\n",
       "      <td>2019</td>\n",
       "      <td>6</td>\n",
       "      <td>17</td>\n",
       "      <td>1</td>\n",
       "    </tr>\n",
       "  </tbody>\n",
       "</table>\n",
       "<p>5 rows × 46 columns</p>\n",
       "</div>"
      ],
      "text/plain": [
       "   Unnamed: 0          client_id  district  client_catg  region  region_group  \\\n",
       "0           0     train_Client_0        60           11     101             2   \n",
       "1           1     train_Client_1        69           11     107             2   \n",
       "2           2    train_Client_10        62           11     301             3   \n",
       "3           3   train_Client_100        69           11     105             2   \n",
       "4           4  train_Client_1000        62           11     303             3   \n",
       "\n",
       "   creation_date_day  creation_date_month  creation_date_year  \\\n",
       "0                 31                   12                1994   \n",
       "1                 29                    5                2002   \n",
       "2                 13                    3                1986   \n",
       "3                  7                   11                1996   \n",
       "4                 14                   10                2014   \n",
       "\n",
       "   no_months_as_client  ...  tally_check_false  sum_tally_value  \\\n",
       "0           290.568595  ...                  0                0   \n",
       "1           202.123247  ...                  0                0   \n",
       "2           397.642662  ...                  0                0   \n",
       "3           190.591183  ...                  0                0   \n",
       "4            56.083287  ...                  0                0   \n",
       "\n",
       "   min_tally_value  max_tally_value  mean_tally_value  counter_type  \\\n",
       "0                0                0               0.0             1   \n",
       "1                0                0               0.0             1   \n",
       "2                0                0               0.0             1   \n",
       "3                0                0               0.0             1   \n",
       "4                0                0               0.0             1   \n",
       "\n",
       "   last_year  last_month  last_day  last_day_is_weekday  \n",
       "0       2019           3        19                    1  \n",
       "1       2019           4         2                    1  \n",
       "2       2019           5         2                    1  \n",
       "3       2012           9        25                    1  \n",
       "4       2019           6        17                    1  \n",
       "\n",
       "[5 rows x 46 columns]"
      ]
     },
     "execution_count": 16,
     "metadata": {},
     "output_type": "execute_result"
    }
   ],
   "source": [
    "df.head()"
   ]
  },
  {
   "cell_type": "code",
   "execution_count": 17,
   "metadata": {},
   "outputs": [
    {
     "data": {
      "text/html": [
       "<div>\n",
       "<style scoped>\n",
       "    .dataframe tbody tr th:only-of-type {\n",
       "        vertical-align: middle;\n",
       "    }\n",
       "\n",
       "    .dataframe tbody tr th {\n",
       "        vertical-align: top;\n",
       "    }\n",
       "\n",
       "    .dataframe thead th {\n",
       "        text-align: right;\n",
       "    }\n",
       "</style>\n",
       "<table border=\"1\" class=\"dataframe\">\n",
       "  <thead>\n",
       "    <tr style=\"text-align: right;\">\n",
       "      <th></th>\n",
       "      <th>Unnamed: 0</th>\n",
       "      <th>client_id</th>\n",
       "      <th>district</th>\n",
       "      <th>client_catg</th>\n",
       "      <th>region</th>\n",
       "      <th>region_group</th>\n",
       "      <th>creation_date_day</th>\n",
       "      <th>creation_date_month</th>\n",
       "      <th>creation_date_year</th>\n",
       "      <th>no_months_as_client</th>\n",
       "      <th>...</th>\n",
       "      <th>tally_check_false</th>\n",
       "      <th>sum_tally_value</th>\n",
       "      <th>min_tally_value</th>\n",
       "      <th>max_tally_value</th>\n",
       "      <th>mean_tally_value</th>\n",
       "      <th>counter_type</th>\n",
       "      <th>last_year</th>\n",
       "      <th>last_month</th>\n",
       "      <th>last_day</th>\n",
       "      <th>last_day_is_weekday</th>\n",
       "    </tr>\n",
       "  </thead>\n",
       "  <tbody>\n",
       "    <tr>\n",
       "      <th>131452</th>\n",
       "      <td>131452</td>\n",
       "      <td>train_Client_96367</td>\n",
       "      <td>60</td>\n",
       "      <td>11</td>\n",
       "      <td>101</td>\n",
       "      <td>2</td>\n",
       "      <td>31</td>\n",
       "      <td>3</td>\n",
       "      <td>2010</td>\n",
       "      <td>103.952853</td>\n",
       "      <td>...</td>\n",
       "      <td>0</td>\n",
       "      <td>0</td>\n",
       "      <td>0</td>\n",
       "      <td>0</td>\n",
       "      <td>0.0</td>\n",
       "      <td>2</td>\n",
       "      <td>2018</td>\n",
       "      <td>11</td>\n",
       "      <td>28</td>\n",
       "      <td>1</td>\n",
       "    </tr>\n",
       "  </tbody>\n",
       "</table>\n",
       "<p>1 rows × 46 columns</p>\n",
       "</div>"
      ],
      "text/plain": [
       "        Unnamed: 0           client_id  district  client_catg  region  \\\n",
       "131452      131452  train_Client_96367        60           11     101   \n",
       "\n",
       "        region_group  creation_date_day  creation_date_month  \\\n",
       "131452             2                 31                    3   \n",
       "\n",
       "        creation_date_year  no_months_as_client  ...  tally_check_false  \\\n",
       "131452                2010           103.952853  ...                  0   \n",
       "\n",
       "        sum_tally_value  min_tally_value  max_tally_value  mean_tally_value  \\\n",
       "131452                0                0                0               0.0   \n",
       "\n",
       "        counter_type  last_year  last_month  last_day  last_day_is_weekday  \n",
       "131452             2       2018          11        28                    1  \n",
       "\n",
       "[1 rows x 46 columns]"
      ]
     },
     "execution_count": 17,
     "metadata": {},
     "output_type": "execute_result"
    }
   ],
   "source": [
    "df[df.index == 131452]"
   ]
  },
  {
   "cell_type": "code",
   "execution_count": 18,
   "metadata": {},
   "outputs": [
    {
     "data": {
      "text/plain": [
       "Unnamed: 0                        int64\n",
       "client_id                        object\n",
       "district                          int64\n",
       "client_catg                       int64\n",
       "region                            int64\n",
       "region_group                      int64\n",
       "creation_date_day                 int64\n",
       "creation_date_month               int64\n",
       "creation_date_year                int64\n",
       "no_months_as_client             float64\n",
       "services_consumed                 int64\n",
       "target                            int64\n",
       "months_of_service               float64\n",
       "number_of_counter                 int64\n",
       "number_of_instances               int64\n",
       "number_of_person_counting         int64\n",
       "min_reading_remark                int64\n",
       "max_reading_remark                int64\n",
       "mean_reading_remark             float64\n",
       "mean_difference_index           float64\n",
       "sum_difference_index              int64\n",
       "min_difference_index              int64\n",
       "max_difference_index              int64\n",
       "min_counter_statue                int64\n",
       "max_counter_statue                int64\n",
       "mean_counter_statue             float64\n",
       "mean_diff_counter_cofficient    float64\n",
       "sum_counter_coefficient           int64\n",
       "mean_counter_coefficient        float64\n",
       "min_counter_coefficient           int64\n",
       "max_counter_coefficient           int64\n",
       "sum_total_consumption             int64\n",
       "mean_total_consumption          float64\n",
       "min_total_consumption             int64\n",
       "max_total_consumption             int64\n",
       "tally_check_true                  int64\n",
       "tally_check_false                 int64\n",
       "sum_tally_value                   int64\n",
       "min_tally_value                   int64\n",
       "max_tally_value                   int64\n",
       "mean_tally_value                float64\n",
       "counter_type                      int64\n",
       "last_year                         int64\n",
       "last_month                        int64\n",
       "last_day                          int64\n",
       "last_day_is_weekday               int64\n",
       "dtype: object"
      ]
     },
     "execution_count": 18,
     "metadata": {},
     "output_type": "execute_result"
    }
   ],
   "source": [
    "df.dtypes # Checking for data types\n"
   ]
  },
  {
   "cell_type": "markdown",
   "metadata": {},
   "source": [
    "## Data Cleaning or Selection"
   ]
  },
  {
   "cell_type": "code",
   "execution_count": 19,
   "metadata": {},
   "outputs": [],
   "source": [
    "del df['Unnamed: 0'] # Delete Index of CSV file\n",
    "del df['client_id'] # Delete client_id as it is a string and can't be used as a feature"
   ]
  },
  {
   "cell_type": "code",
   "execution_count": 20,
   "metadata": {},
   "outputs": [
    {
     "data": {
      "text/html": [
       "<div>\n",
       "<style scoped>\n",
       "    .dataframe tbody tr th:only-of-type {\n",
       "        vertical-align: middle;\n",
       "    }\n",
       "\n",
       "    .dataframe tbody tr th {\n",
       "        vertical-align: top;\n",
       "    }\n",
       "\n",
       "    .dataframe thead th {\n",
       "        text-align: right;\n",
       "    }\n",
       "</style>\n",
       "<table border=\"1\" class=\"dataframe\">\n",
       "  <thead>\n",
       "    <tr style=\"text-align: right;\">\n",
       "      <th></th>\n",
       "      <th>district</th>\n",
       "      <th>client_catg</th>\n",
       "      <th>region</th>\n",
       "      <th>region_group</th>\n",
       "      <th>creation_date_day</th>\n",
       "      <th>creation_date_month</th>\n",
       "      <th>creation_date_year</th>\n",
       "      <th>no_months_as_client</th>\n",
       "      <th>services_consumed</th>\n",
       "      <th>target</th>\n",
       "      <th>...</th>\n",
       "      <th>tally_check_false</th>\n",
       "      <th>sum_tally_value</th>\n",
       "      <th>min_tally_value</th>\n",
       "      <th>max_tally_value</th>\n",
       "      <th>mean_tally_value</th>\n",
       "      <th>counter_type</th>\n",
       "      <th>last_year</th>\n",
       "      <th>last_month</th>\n",
       "      <th>last_day</th>\n",
       "      <th>last_day_is_weekday</th>\n",
       "    </tr>\n",
       "  </thead>\n",
       "  <tbody>\n",
       "    <tr>\n",
       "      <th>0</th>\n",
       "      <td>60</td>\n",
       "      <td>11</td>\n",
       "      <td>101</td>\n",
       "      <td>2</td>\n",
       "      <td>31</td>\n",
       "      <td>12</td>\n",
       "      <td>1994</td>\n",
       "      <td>290.568595</td>\n",
       "      <td>1</td>\n",
       "      <td>0</td>\n",
       "      <td>...</td>\n",
       "      <td>0</td>\n",
       "      <td>0</td>\n",
       "      <td>0</td>\n",
       "      <td>0</td>\n",
       "      <td>0.0</td>\n",
       "      <td>1</td>\n",
       "      <td>2019</td>\n",
       "      <td>3</td>\n",
       "      <td>19</td>\n",
       "      <td>1</td>\n",
       "    </tr>\n",
       "    <tr>\n",
       "      <th>1</th>\n",
       "      <td>69</td>\n",
       "      <td>11</td>\n",
       "      <td>107</td>\n",
       "      <td>2</td>\n",
       "      <td>29</td>\n",
       "      <td>5</td>\n",
       "      <td>2002</td>\n",
       "      <td>202.123247</td>\n",
       "      <td>1</td>\n",
       "      <td>0</td>\n",
       "      <td>...</td>\n",
       "      <td>0</td>\n",
       "      <td>0</td>\n",
       "      <td>0</td>\n",
       "      <td>0</td>\n",
       "      <td>0.0</td>\n",
       "      <td>1</td>\n",
       "      <td>2019</td>\n",
       "      <td>4</td>\n",
       "      <td>2</td>\n",
       "      <td>1</td>\n",
       "    </tr>\n",
       "    <tr>\n",
       "      <th>2</th>\n",
       "      <td>62</td>\n",
       "      <td>11</td>\n",
       "      <td>301</td>\n",
       "      <td>3</td>\n",
       "      <td>13</td>\n",
       "      <td>3</td>\n",
       "      <td>1986</td>\n",
       "      <td>397.642662</td>\n",
       "      <td>1</td>\n",
       "      <td>0</td>\n",
       "      <td>...</td>\n",
       "      <td>0</td>\n",
       "      <td>0</td>\n",
       "      <td>0</td>\n",
       "      <td>0</td>\n",
       "      <td>0.0</td>\n",
       "      <td>1</td>\n",
       "      <td>2019</td>\n",
       "      <td>5</td>\n",
       "      <td>2</td>\n",
       "      <td>1</td>\n",
       "    </tr>\n",
       "    <tr>\n",
       "      <th>3</th>\n",
       "      <td>69</td>\n",
       "      <td>11</td>\n",
       "      <td>105</td>\n",
       "      <td>2</td>\n",
       "      <td>7</td>\n",
       "      <td>11</td>\n",
       "      <td>1996</td>\n",
       "      <td>190.591183</td>\n",
       "      <td>1</td>\n",
       "      <td>0</td>\n",
       "      <td>...</td>\n",
       "      <td>0</td>\n",
       "      <td>0</td>\n",
       "      <td>0</td>\n",
       "      <td>0</td>\n",
       "      <td>0.0</td>\n",
       "      <td>1</td>\n",
       "      <td>2012</td>\n",
       "      <td>9</td>\n",
       "      <td>25</td>\n",
       "      <td>1</td>\n",
       "    </tr>\n",
       "    <tr>\n",
       "      <th>4</th>\n",
       "      <td>62</td>\n",
       "      <td>11</td>\n",
       "      <td>303</td>\n",
       "      <td>3</td>\n",
       "      <td>14</td>\n",
       "      <td>10</td>\n",
       "      <td>2014</td>\n",
       "      <td>56.083287</td>\n",
       "      <td>1</td>\n",
       "      <td>0</td>\n",
       "      <td>...</td>\n",
       "      <td>0</td>\n",
       "      <td>0</td>\n",
       "      <td>0</td>\n",
       "      <td>0</td>\n",
       "      <td>0.0</td>\n",
       "      <td>1</td>\n",
       "      <td>2019</td>\n",
       "      <td>6</td>\n",
       "      <td>17</td>\n",
       "      <td>1</td>\n",
       "    </tr>\n",
       "  </tbody>\n",
       "</table>\n",
       "<p>5 rows × 44 columns</p>\n",
       "</div>"
      ],
      "text/plain": [
       "   district  client_catg  region  region_group  creation_date_day  \\\n",
       "0        60           11     101             2                 31   \n",
       "1        69           11     107             2                 29   \n",
       "2        62           11     301             3                 13   \n",
       "3        69           11     105             2                  7   \n",
       "4        62           11     303             3                 14   \n",
       "\n",
       "   creation_date_month  creation_date_year  no_months_as_client  \\\n",
       "0                   12                1994           290.568595   \n",
       "1                    5                2002           202.123247   \n",
       "2                    3                1986           397.642662   \n",
       "3                   11                1996           190.591183   \n",
       "4                   10                2014            56.083287   \n",
       "\n",
       "   services_consumed  target  ...  tally_check_false  sum_tally_value  \\\n",
       "0                  1       0  ...                  0                0   \n",
       "1                  1       0  ...                  0                0   \n",
       "2                  1       0  ...                  0                0   \n",
       "3                  1       0  ...                  0                0   \n",
       "4                  1       0  ...                  0                0   \n",
       "\n",
       "   min_tally_value  max_tally_value  mean_tally_value  counter_type  \\\n",
       "0                0                0               0.0             1   \n",
       "1                0                0               0.0             1   \n",
       "2                0                0               0.0             1   \n",
       "3                0                0               0.0             1   \n",
       "4                0                0               0.0             1   \n",
       "\n",
       "   last_year  last_month  last_day  last_day_is_weekday  \n",
       "0       2019           3        19                    1  \n",
       "1       2019           4         2                    1  \n",
       "2       2019           5         2                    1  \n",
       "3       2012           9        25                    1  \n",
       "4       2019           6        17                    1  \n",
       "\n",
       "[5 rows x 44 columns]"
      ]
     },
     "execution_count": 20,
     "metadata": {},
     "output_type": "execute_result"
    }
   ],
   "source": [
    "df.head()"
   ]
  },
  {
   "cell_type": "markdown",
   "metadata": {},
   "source": [
    "## Separating Training and Testing Data\n",
    "\n",
    "Partition the dataset such that both training and testing data have a good mixed of fraud and no fraud data by randomness."
   ]
  },
  {
   "cell_type": "code",
   "execution_count": 21,
   "metadata": {},
   "outputs": [
    {
     "name": "stdout",
     "output_type": "stream",
     "text": [
      "Number of training instances:  94840 \n",
      "Number of test instances:  40647 \n",
      "Total number of instances:  135487\n"
     ]
    }
   ],
   "source": [
    "from sklearn.model_selection import train_test_split\n",
    "\n",
    "# Partion the features from the target to predict\n",
    "df_features = df[df.columns[df.columns != 'target']].copy() # get columns that are not 'target'; this our features\n",
    "df_target = df['target'].copy() # get the column named 'target'; this is our label\n",
    "\n",
    "# (random_state): we use a fixed random seed so we get the same results every time.\n",
    "X_train, X_test, y_train, y_test = train_test_split(df_features, df_target, test_size=0.3, random_state=1) ## RANDOM STATE DETERMINED HERE\n",
    "\n",
    "print (\"Number of training instances: \", len(X_train), \"\\nNumber of test instances: \", len(X_test), \"\\nTotal number of instances: \",len(df_target))"
   ]
  },
  {
   "cell_type": "markdown",
   "metadata": {},
   "source": [
    "### Imbalance Data\n",
    "There $\\exists$ imbalance data. Hence, data would be seperated first then undersample"
   ]
  },
  {
   "cell_type": "markdown",
   "metadata": {},
   "source": [
    "**Training Data**"
   ]
  },
  {
   "cell_type": "code",
   "execution_count": 20,
   "metadata": {},
   "outputs": [],
   "source": [
    "if False:    \n",
    "    not_fraud = y_train[y_train == 0].index #Get index of rows that are not fraud\n",
    "    fraud = y_train[y_train == 1].index # #Get index of rows that are fraud\n",
    "    not_fraud = np.random.choice(not_fraud, len(fraud), replace=False) # Randomly pick not fraud rows without replacement until the len is the same as fruad\n",
    "    X_train = pd.concat([X_train.loc[not_fraud],X_train.loc[fraud]]) \n",
    "    y_train = pd.concat([y_train.loc[not_fraud],y_train.loc[fraud]])\n",
    "\n",
    "    print(\"Training Data\", len(X_train),len(y_train))"
   ]
  },
  {
   "cell_type": "markdown",
   "metadata": {},
   "source": [
    "**Testing Data**"
   ]
  },
  {
   "cell_type": "code",
   "execution_count": 21,
   "metadata": {},
   "outputs": [],
   "source": [
    "if False:\n",
    "    not_fraud = y_test[y_test == 0].index #Get index of rows that are not fraud\n",
    "    fraud = y_test[y_test == 1].index # #Get index of rows that are fraud\n",
    "    not_fraud = np.random.choice(not_fraud, len(fraud), replace=False) # Randomly pick not fraud rows without replacement until the len is the same as fruad\n",
    "    X_test = pd.concat([X_test.loc[not_fraud],X_test.loc[fraud]]) \n",
    "    y_test = pd.concat([y_test.loc[not_fraud],y_test.loc[fraud]])\n",
    "\n",
    "    print(\"Testing Data\",len(X_test),len(y_test))"
   ]
  },
  {
   "cell_type": "markdown",
   "metadata": {},
   "source": [
    "#### Oversampling\n",
    "Training Data"
   ]
  },
  {
   "cell_type": "code",
   "execution_count": 22,
   "metadata": {},
   "outputs": [
    {
     "name": "stdout",
     "output_type": "stream",
     "text": [
      "Training Data 179076 179076\n"
     ]
    }
   ],
   "source": [
    "not_fraud = y_train[y_train == 0].index #Get index of rows that are not fraud\n",
    "fraud = y_train[y_train == 1].index # #Get index of rows that are fraud\n",
    "fraud = np.random.choice(fraud, len(not_fraud), replace=True) # Randomly pick not fraud rows without replacement until the len is the same as fruad\n",
    "X_train = pd.concat([X_train.loc[not_fraud],X_train.loc[fraud]]) \n",
    "y_train = pd.concat([y_train.loc[not_fraud],y_train.loc[fraud]])\n",
    "\n",
    "print(\"Training Data\", len(X_train),len(y_train))"
   ]
  },
  {
   "cell_type": "markdown",
   "metadata": {},
   "source": [
    "Testing Data"
   ]
  },
  {
   "cell_type": "code",
   "execution_count": 6,
   "metadata": {},
   "outputs": [
    {
     "name": "stdout",
     "output_type": "stream",
     "text": [
      "Testing Data 76766 76766\n"
     ]
    }
   ],
   "source": [
    "not_fraud = y_test[y_test == 0].index #Get index of rows that are not fraud\n",
    "fraud = y_test[y_test == 1].index # #Get index of rows that are fraud\n",
    "fraud = np.random.choice(fraud, len(not_fraud), replace=True) # Randomly pick not fraud rows without replacement until the len is the same as fruad\n",
    "X_test = pd.concat([X_test.loc[not_fraud],X_test.loc[fraud]]) \n",
    "y_test = pd.concat([y_test.loc[not_fraud],y_test.loc[fraud]])\n",
    "\n",
    "print(\"Testing Data\",len(X_test),len(y_test))"
   ]
  },
  {
   "cell_type": "markdown",
   "metadata": {},
   "source": [
    "Raw Data"
   ]
  },
  {
   "cell_type": "code",
   "execution_count": 24,
   "metadata": {},
   "outputs": [
    {
     "name": "stdout",
     "output_type": "stream",
     "text": [
      "Raw Data 255842 255842\n"
     ]
    }
   ],
   "source": [
    "## Raw Data\n",
    "not_fraud = df_target[df_target == 0].index #Get index of rows that are not fraud\n",
    "fraud = df_target[df_target == 1].index # #Get index of rows that are fraud\n",
    "fraud = np.random.choice(fraud, len(not_fraud), replace=True) # Randomly pick not fraud rows without replacement until the len is the same as fruad\n",
    "df_features = pd.concat([df_features.loc[not_fraud],df_features.loc[fraud]]) \n",
    "df_target = pd.concat([df_target.loc[not_fraud],df_target.loc[fraud]])\n",
    "\n",
    "print(\"Raw Data\",len(df_features),len(df_target),flush=True)"
   ]
  },
  {
   "cell_type": "code",
   "execution_count": 25,
   "metadata": {},
   "outputs": [
    {
     "data": {
      "text/plain": [
       "0    38383\n",
       "1    38383\n",
       "Name: target, dtype: int64"
      ]
     },
     "execution_count": 25,
     "metadata": {},
     "output_type": "execute_result"
    }
   ],
   "source": [
    "y_test.value_counts()"
   ]
  },
  {
   "cell_type": "code",
   "execution_count": 26,
   "metadata": {},
   "outputs": [
    {
     "data": {
      "text/plain": [
       "89095     0\n",
       "76482     0\n",
       "23159     0\n",
       "110232    0\n",
       "109412    0\n",
       "Name: target, dtype: int64"
      ]
     },
     "execution_count": 26,
     "metadata": {},
     "output_type": "execute_result"
    }
   ],
   "source": [
    "y_test.head()"
   ]
  },
  {
   "cell_type": "code",
   "execution_count": 27,
   "metadata": {},
   "outputs": [
    {
     "data": {
      "text/html": [
       "<div>\n",
       "<style scoped>\n",
       "    .dataframe tbody tr th:only-of-type {\n",
       "        vertical-align: middle;\n",
       "    }\n",
       "\n",
       "    .dataframe tbody tr th {\n",
       "        vertical-align: top;\n",
       "    }\n",
       "\n",
       "    .dataframe thead th {\n",
       "        text-align: right;\n",
       "    }\n",
       "</style>\n",
       "<table border=\"1\" class=\"dataframe\">\n",
       "  <thead>\n",
       "    <tr style=\"text-align: right;\">\n",
       "      <th></th>\n",
       "      <th>district</th>\n",
       "      <th>client_catg</th>\n",
       "      <th>region</th>\n",
       "      <th>region_group</th>\n",
       "      <th>creation_date_day</th>\n",
       "      <th>creation_date_month</th>\n",
       "      <th>creation_date_year</th>\n",
       "      <th>no_months_as_client</th>\n",
       "      <th>services_consumed</th>\n",
       "      <th>months_of_service</th>\n",
       "      <th>...</th>\n",
       "      <th>tally_check_false</th>\n",
       "      <th>sum_tally_value</th>\n",
       "      <th>min_tally_value</th>\n",
       "      <th>max_tally_value</th>\n",
       "      <th>mean_tally_value</th>\n",
       "      <th>counter_type</th>\n",
       "      <th>last_year</th>\n",
       "      <th>last_month</th>\n",
       "      <th>last_day</th>\n",
       "      <th>last_day_is_weekday</th>\n",
       "    </tr>\n",
       "  </thead>\n",
       "  <tbody>\n",
       "    <tr>\n",
       "      <th>89095</th>\n",
       "      <td>62</td>\n",
       "      <td>11</td>\n",
       "      <td>309</td>\n",
       "      <td>3</td>\n",
       "      <td>30</td>\n",
       "      <td>12</td>\n",
       "      <td>1997</td>\n",
       "      <td>258.962196</td>\n",
       "      <td>2</td>\n",
       "      <td>167.592764</td>\n",
       "      <td>...</td>\n",
       "      <td>0</td>\n",
       "      <td>0</td>\n",
       "      <td>0</td>\n",
       "      <td>0</td>\n",
       "      <td>0.0</td>\n",
       "      <td>2</td>\n",
       "      <td>2019</td>\n",
       "      <td>7</td>\n",
       "      <td>30</td>\n",
       "      <td>1</td>\n",
       "    </tr>\n",
       "    <tr>\n",
       "      <th>76482</th>\n",
       "      <td>62</td>\n",
       "      <td>11</td>\n",
       "      <td>303</td>\n",
       "      <td>3</td>\n",
       "      <td>1</td>\n",
       "      <td>10</td>\n",
       "      <td>1983</td>\n",
       "      <td>427.704881</td>\n",
       "      <td>2</td>\n",
       "      <td>160.627528</td>\n",
       "      <td>...</td>\n",
       "      <td>0</td>\n",
       "      <td>0</td>\n",
       "      <td>0</td>\n",
       "      <td>0</td>\n",
       "      <td>0.0</td>\n",
       "      <td>2</td>\n",
       "      <td>2019</td>\n",
       "      <td>5</td>\n",
       "      <td>23</td>\n",
       "      <td>1</td>\n",
       "    </tr>\n",
       "    <tr>\n",
       "      <th>23159</th>\n",
       "      <td>60</td>\n",
       "      <td>11</td>\n",
       "      <td>101</td>\n",
       "      <td>2</td>\n",
       "      <td>27</td>\n",
       "      <td>6</td>\n",
       "      <td>1985</td>\n",
       "      <td>133.850798</td>\n",
       "      <td>1</td>\n",
       "      <td>4.008296</td>\n",
       "      <td>...</td>\n",
       "      <td>0</td>\n",
       "      <td>0</td>\n",
       "      <td>0</td>\n",
       "      <td>0</td>\n",
       "      <td>0.0</td>\n",
       "      <td>1</td>\n",
       "      <td>1996</td>\n",
       "      <td>8</td>\n",
       "      <td>22</td>\n",
       "      <td>1</td>\n",
       "    </tr>\n",
       "    <tr>\n",
       "      <th>110232</th>\n",
       "      <td>60</td>\n",
       "      <td>11</td>\n",
       "      <td>101</td>\n",
       "      <td>2</td>\n",
       "      <td>27</td>\n",
       "      <td>10</td>\n",
       "      <td>1997</td>\n",
       "      <td>258.863632</td>\n",
       "      <td>1</td>\n",
       "      <td>166.048584</td>\n",
       "      <td>...</td>\n",
       "      <td>0</td>\n",
       "      <td>0</td>\n",
       "      <td>0</td>\n",
       "      <td>0</td>\n",
       "      <td>0.0</td>\n",
       "      <td>1</td>\n",
       "      <td>2019</td>\n",
       "      <td>5</td>\n",
       "      <td>24</td>\n",
       "      <td>1</td>\n",
       "    </tr>\n",
       "    <tr>\n",
       "      <th>109412</th>\n",
       "      <td>63</td>\n",
       "      <td>11</td>\n",
       "      <td>372</td>\n",
       "      <td>3</td>\n",
       "      <td>30</td>\n",
       "      <td>11</td>\n",
       "      <td>2010</td>\n",
       "      <td>106.121276</td>\n",
       "      <td>1</td>\n",
       "      <td>105.562743</td>\n",
       "      <td>...</td>\n",
       "      <td>0</td>\n",
       "      <td>0</td>\n",
       "      <td>0</td>\n",
       "      <td>0</td>\n",
       "      <td>0.0</td>\n",
       "      <td>1</td>\n",
       "      <td>2019</td>\n",
       "      <td>10</td>\n",
       "      <td>4</td>\n",
       "      <td>1</td>\n",
       "    </tr>\n",
       "  </tbody>\n",
       "</table>\n",
       "<p>5 rows × 43 columns</p>\n",
       "</div>"
      ],
      "text/plain": [
       "        district  client_catg  region  region_group  creation_date_day  \\\n",
       "89095         62           11     309             3                 30   \n",
       "76482         62           11     303             3                  1   \n",
       "23159         60           11     101             2                 27   \n",
       "110232        60           11     101             2                 27   \n",
       "109412        63           11     372             3                 30   \n",
       "\n",
       "        creation_date_month  creation_date_year  no_months_as_client  \\\n",
       "89095                    12                1997           258.962196   \n",
       "76482                    10                1983           427.704881   \n",
       "23159                     6                1985           133.850798   \n",
       "110232                   10                1997           258.863632   \n",
       "109412                   11                2010           106.121276   \n",
       "\n",
       "        services_consumed  months_of_service  ...  tally_check_false  \\\n",
       "89095                   2         167.592764  ...                  0   \n",
       "76482                   2         160.627528  ...                  0   \n",
       "23159                   1           4.008296  ...                  0   \n",
       "110232                  1         166.048584  ...                  0   \n",
       "109412                  1         105.562743  ...                  0   \n",
       "\n",
       "        sum_tally_value  min_tally_value  max_tally_value  mean_tally_value  \\\n",
       "89095                 0                0                0               0.0   \n",
       "76482                 0                0                0               0.0   \n",
       "23159                 0                0                0               0.0   \n",
       "110232                0                0                0               0.0   \n",
       "109412                0                0                0               0.0   \n",
       "\n",
       "        counter_type  last_year  last_month  last_day  last_day_is_weekday  \n",
       "89095              2       2019           7        30                    1  \n",
       "76482              2       2019           5        23                    1  \n",
       "23159              1       1996           8        22                    1  \n",
       "110232             1       2019           5        24                    1  \n",
       "109412             1       2019          10         4                    1  \n",
       "\n",
       "[5 rows x 43 columns]"
      ]
     },
     "execution_count": 27,
     "metadata": {},
     "output_type": "execute_result"
    }
   ],
   "source": [
    "X_test.head()"
   ]
  },
  {
   "cell_type": "code",
   "execution_count": 28,
   "metadata": {},
   "outputs": [
    {
     "ename": "FileNotFoundError",
     "evalue": "[Errno 2] No such file or directory: 'Feature-Importance.json'",
     "output_type": "error",
     "traceback": [
      "\u001b[0;31m---------------------------------------------------------------------------\u001b[0m",
      "\u001b[0;31mFileNotFoundError\u001b[0m                         Traceback (most recent call last)",
      "\u001b[0;32m/var/folders/gv/08yw1m3d0xv570vd9m42jq_40000gn/T/ipykernel_13932/114356780.py\u001b[0m in \u001b[0;36m<module>\u001b[0;34m\u001b[0m\n\u001b[1;32m      1\u001b[0m \u001b[0;32mimport\u001b[0m \u001b[0mjson\u001b[0m\u001b[0;34m\u001b[0m\u001b[0;34m\u001b[0m\u001b[0m\n\u001b[1;32m      2\u001b[0m \u001b[0;34m\u001b[0m\u001b[0m\n\u001b[0;32m----> 3\u001b[0;31m \u001b[0;32mwith\u001b[0m \u001b[0mopen\u001b[0m\u001b[0;34m(\u001b[0m\u001b[0;34m'Feature-Importance.json'\u001b[0m\u001b[0;34m,\u001b[0m\u001b[0;34m'r'\u001b[0m\u001b[0;34m)\u001b[0m \u001b[0;32mas\u001b[0m \u001b[0mjsonfile\u001b[0m\u001b[0;34m:\u001b[0m\u001b[0;34m\u001b[0m\u001b[0;34m\u001b[0m\u001b[0m\n\u001b[0m\u001b[1;32m      4\u001b[0m     \u001b[0mFeature_Importance\u001b[0m \u001b[0;34m=\u001b[0m \u001b[0mjson\u001b[0m\u001b[0;34m.\u001b[0m\u001b[0mload\u001b[0m\u001b[0;34m(\u001b[0m\u001b[0mjsonfile\u001b[0m\u001b[0;34m)\u001b[0m\u001b[0;34m\u001b[0m\u001b[0;34m\u001b[0m\u001b[0m\n\u001b[1;32m      5\u001b[0m \u001b[0;34m\u001b[0m\u001b[0m\n",
      "\u001b[0;31mFileNotFoundError\u001b[0m: [Errno 2] No such file or directory: 'Feature-Importance.json'"
     ]
    }
   ],
   "source": [
    "import json\n",
    "\n",
    "with open('Feature-Importance.json','r') as jsonfile:\n",
    "    Feature_Importance = json.load(jsonfile)\n",
    "\n",
    "Feature_Importance = list(sorted(Feature_Importance.items(),key= lambda x: x[1], reverse=True))\n",
    "for x in range(len(Feature_Importance)):\n",
    "    print(Feature_Importance[:x+1])"
   ]
  },
  {
   "cell_type": "markdown",
   "metadata": {},
   "source": [
    "## Building the MLP Classifier"
   ]
  },
  {
   "cell_type": "code",
   "execution_count": 23,
   "metadata": {},
   "outputs": [
    {
     "name": "stdout",
     "output_type": "stream",
     "text": [
      "Number of Features:  43\n"
     ]
    }
   ],
   "source": [
    "print(\"Number of Features: \",len(X_train.columns))"
   ]
  },
  {
   "cell_type": "code",
   "execution_count": 24,
   "metadata": {},
   "outputs": [
    {
     "data": {
      "text/plain": [
       "\" \\nMLP = MLPClassifier(hidden_layer_sizes=(50,80,100,70,50,30,20,10,5),    # The ith element represents the number of neurons in the ith hidden layer.\\n                    activation='relu',                                  # Activation function for the hidden layer.\\n                    solver='adam',                                      # The solver for weight optimization.\\n                    alpha=0.0001,                                       # Strength of the L2 regularization term. The L2 regularization term is divided by the sample size when added to the loss.\\n                    learning_rate='constant',                           # Learning rate schedule for weight updates. Only used when solver='sgd'.\\n                    learning_rate_init=0.001,                           # The initial learning rate used. It controls the step-size in updating the weights. Only used when solver='sgd' or 'adam'.\\n                    shuffle=True,                                       # Whether to shuffle samples in each iteration. Only used when solver='sgd' or 'adam'.\\n                    tol=1e-4,                                           # Tolerance for the optimization.\\n                    n_iter_no_change=10,                                # Maximum number of epochs to not meet tol improvement                             \\n                    max_iter=200, \\n                    verbose=1, \\n                    random_state=1) \\n\""
      ]
     },
     "execution_count": 24,
     "metadata": {},
     "output_type": "execute_result"
    }
   ],
   "source": [
    "from sklearn.neural_network import MLPClassifier\n",
    "\n",
    "# MLP = MLPClassifier(hidden_layer_sizes=(35,11), max_iter=500, verbose=1, random_state=1)\n",
    "MLP = MLPClassifier(hidden_layer_sizes=(50,80,100,70,50,30,20,10,5), max_iter=500, verbose=1, random_state=1)\n",
    "\"\"\" \n",
    "MLP = MLPClassifier(hidden_layer_sizes=(50,80,100,70,50,30,20,10,5),    # The ith element represents the number of neurons in the ith hidden layer.\n",
    "                    activation='relu',                                  # Activation function for the hidden layer.\n",
    "                    solver='adam',                                      # The solver for weight optimization.\n",
    "                    alpha=0.0001,                                       # Strength of the L2 regularization term. The L2 regularization term is divided by the sample size when added to the loss.\n",
    "                    learning_rate='constant',                           # Learning rate schedule for weight updates. Only used when solver='sgd'.\n",
    "                    learning_rate_init=0.001,                           # The initial learning rate used. It controls the step-size in updating the weights. Only used when solver='sgd' or 'adam'.\n",
    "                    shuffle=True,                                       # Whether to shuffle samples in each iteration. Only used when solver='sgd' or 'adam'.\n",
    "                    tol=1e-4,                                           # Tolerance for the optimization.\n",
    "                    n_iter_no_change=10,                                # Maximum number of epochs to not meet tol improvement                             \n",
    "                    max_iter=200, \n",
    "                    verbose=1, \n",
    "                    random_state=1) \n",
    "\"\"\"\n"
   ]
  },
  {
   "cell_type": "markdown",
   "metadata": {},
   "source": [
    "## <font color=\"orange\">Training Starts Here ↓ </font>"
   ]
  },
  {
   "cell_type": "markdown",
   "metadata": {},
   "source": [
    "### The Basic Method"
   ]
  },
  {
   "cell_type": "code",
   "execution_count": 25,
   "metadata": {},
   "outputs": [
    {
     "name": "stdout",
     "output_type": "stream",
     "text": [
      "Iteration 1, loss = 0.70868847\n",
      "Iteration 2, loss = 0.69337930\n",
      "Iteration 3, loss = 0.69322245\n",
      "Iteration 4, loss = 0.69322410\n",
      "Iteration 5, loss = 0.69322351\n",
      "Iteration 6, loss = 0.69322221\n",
      "Iteration 7, loss = 0.69322379\n",
      "Iteration 8, loss = 0.69322510\n",
      "Iteration 9, loss = 0.69322226\n",
      "Iteration 10, loss = 0.69321981\n",
      "Iteration 11, loss = 0.69321530\n",
      "Iteration 12, loss = 0.69322204\n",
      "Iteration 13, loss = 0.69321605\n",
      "Iteration 14, loss = 0.69321430\n",
      "Training loss did not improve more than tol=0.000100 for 10 consecutive epochs. Stopping.\n"
     ]
    },
    {
     "data": {
      "text/plain": [
       "MLPClassifier(hidden_layer_sizes=(50, 80, 100, 70, 50, 30, 20, 10, 5),\n",
       "              max_iter=500, random_state=1, verbose=1)"
      ]
     },
     "execution_count": 25,
     "metadata": {},
     "output_type": "execute_result"
    }
   ],
   "source": [
    "MLP.fit(X_train, y_train)"
   ]
  },
  {
   "cell_type": "markdown",
   "metadata": {},
   "source": [
    "### Cross Validation"
   ]
  },
  {
   "cell_type": "code",
   "execution_count": null,
   "metadata": {},
   "outputs": [
    {
     "data": {
      "text/plain": [
       "' from statistics import mean\\nfrom sklearn.model_selection import cross_val_score\\nscores = cross_val_score(MLP, X_train, y_train, cv=5)\\nprint(scores)\\nprint(mean(scores)) '"
      ]
     },
     "execution_count": 31,
     "metadata": {},
     "output_type": "execute_result"
    }
   ],
   "source": [
    "\"\"\" from statistics import mean\n",
    "from sklearn.model_selection import cross_val_score\n",
    "scores = cross_val_score(MLP, X_train, y_train, cv=5)\n",
    "print(scores)\n",
    "print(mean(scores)) \"\"\""
   ]
  },
  {
   "cell_type": "code",
   "execution_count": null,
   "metadata": {},
   "outputs": [
    {
     "ename": "NameError",
     "evalue": "name 'mean' is not defined",
     "output_type": "error",
     "traceback": [
      "\u001b[0;31m---------------------------------------------------------------------------\u001b[0m",
      "\u001b[0;31mNameError\u001b[0m                                 Traceback (most recent call last)",
      "\u001b[0;32m/var/folders/gv/08yw1m3d0xv570vd9m42jq_40000gn/T/ipykernel_47812/1596390766.py\u001b[0m in \u001b[0;36m<module>\u001b[0;34m\u001b[0m\n\u001b[0;32m----> 1\u001b[0;31m \u001b[0mmean\u001b[0m\u001b[0;34m(\u001b[0m\u001b[0mscores\u001b[0m\u001b[0;34m)\u001b[0m\u001b[0;34m\u001b[0m\u001b[0;34m\u001b[0m\u001b[0m\n\u001b[0m",
      "\u001b[0;31mNameError\u001b[0m: name 'mean' is not defined"
     ]
    }
   ],
   "source": [
    "mean(scores)"
   ]
  },
  {
   "cell_type": "markdown",
   "metadata": {},
   "source": [
    "## Prediction of Model"
   ]
  },
  {
   "cell_type": "code",
   "execution_count": 26,
   "metadata": {},
   "outputs": [
    {
     "name": "stdout",
     "output_type": "stream",
     "text": [
      "{1}\n"
     ]
    }
   ],
   "source": [
    "predicted_target = MLP.predict(X_test)\n",
    "print(set(predicted_target))\n",
    "#print(\"Prediction: \",int(predicted_target))"
   ]
  },
  {
   "cell_type": "markdown",
   "metadata": {},
   "source": [
    "## Evaluation Metric"
   ]
  },
  {
   "cell_type": "code",
   "execution_count": 27,
   "metadata": {},
   "outputs": [
    {
     "name": "stdout",
     "output_type": "stream",
     "text": [
      "Training set score 0.5\n",
      "Testing set score 0.05569906758186336\n"
     ]
    }
   ],
   "source": [
    "print(\"Training set score\", MLP.score(X_train, y_train))\n",
    "print(\"Testing set score\", MLP.score(X_test, y_test))"
   ]
  },
  {
   "cell_type": "code",
   "execution_count": 28,
   "metadata": {},
   "outputs": [
    {
     "name": "stdout",
     "output_type": "stream",
     "text": [
      "Accuracy: 0.05569906758186336\n",
      "Balanced Accuracy: 0.5\n",
      "Precision: 0.05569906758186336\n",
      "Recall: 1.0\n",
      "F1 score: 0.10552072895061872\n",
      "ROC AUC: 0.5\n",
      "F2 Score: 0.22775285194052672\n",
      "[[    0 38383]\n",
      " [    0  2264]]\n"
     ]
    }
   ],
   "source": [
    "from sklearn import metrics\n",
    "predicted_target = MLP.predict(X_test)\n",
    "accuracy = metrics.accuracy_score(y_test, predicted_target)\n",
    "balanced_accuracy = metrics.balanced_accuracy_score(y_test, predicted_target)\n",
    "precision = metrics.precision_score(y_test, predicted_target)\n",
    "recall = metrics.recall_score(y_test, predicted_target)\n",
    "f1 = metrics.f1_score(y_test, predicted_target)\n",
    "roc_auc = metrics.roc_auc_score(y_test, predicted_target)\n",
    "f2 = metrics.fbeta_score(y_test,predicted_target, beta=2.0)\n",
    "\n",
    "print(f\"Accuracy: {accuracy}\")\n",
    "print(f\"Balanced Accuracy: {balanced_accuracy}\")\n",
    "print(f\"Precision: {precision}\")\n",
    "print(f\"Recall: {recall}\")\n",
    "print(f\"F1 score: {f1}\")\n",
    "print(f\"ROC AUC: {roc_auc}\")\n",
    "print(f'F2 Score: {f2}')\n",
    "print(metrics.confusion_matrix(y_test, predicted_target))"
   ]
  },
  {
   "cell_type": "code",
   "execution_count": null,
   "metadata": {},
   "outputs": [
    {
     "data": {
      "text/plain": [
       "0    38383\n",
       "1    38383\n",
       "Name: target, dtype: int64"
      ]
     },
     "execution_count": 59,
     "metadata": {},
     "output_type": "execute_result"
    }
   ],
   "source": [
    "y_test.value_counts()"
   ]
  },
  {
   "cell_type": "markdown",
   "metadata": {},
   "source": [
    "## Saving of Data"
   ]
  },
  {
   "cell_type": "code",
   "execution_count": null,
   "metadata": {},
   "outputs": [
    {
     "data": {
      "text/plain": [
       "' import joblib\\njoblib.dump(MLP, \"model.pkl\") \\n '"
      ]
     },
     "execution_count": 31,
     "metadata": {},
     "output_type": "execute_result"
    }
   ],
   "source": [
    "\"\"\" import joblib\n",
    "joblib.dump(MLP, \"model.pkl\") \n",
    " \"\"\""
   ]
  },
  {
   "cell_type": "code",
   "execution_count": null,
   "metadata": {},
   "outputs": [
    {
     "data": {
      "text/plain": [
       "' import joblib\\nMLP = joblib.load(\"model.pkl\") '"
      ]
     },
     "execution_count": 32,
     "metadata": {},
     "output_type": "execute_result"
    }
   ],
   "source": [
    "\"\"\" import joblib\n",
    "MLP = joblib.load(\"model.pkl\") \"\"\""
   ]
  },
  {
   "cell_type": "markdown",
   "metadata": {},
   "source": [
    "## References\n",
    "1. https://carpentries-incubator.github.io/machine-learning-novice-sklearn/06-neural-networks/index.html\n",
    "2. https://scikit-learn.org/stable/modules/neural_networks_supervised.html\n",
    "3. https://benjaminobi.medium.com/5-minutes-tutorial-on-how-to-compute-and-visualize-the-covariance-matrix-2597ab98d9ee\n",
    "4. https://scikit-learn.org/stable/modules/generated/sklearn.neural_network.MLPClassifier.html"
   ]
  }
 ],
 "metadata": {
  "kernelspec": {
   "display_name": "Python 3.7.13 ('cs3244')",
   "language": "python",
   "name": "python3"
  },
  "language_info": {
   "codemirror_mode": {
    "name": "ipython",
    "version": 3
   },
   "file_extension": ".py",
   "mimetype": "text/x-python",
   "name": "python",
   "nbconvert_exporter": "python",
   "pygments_lexer": "ipython3",
   "version": "3.7.13"
  },
  "orig_nbformat": 4,
  "vscode": {
   "interpreter": {
    "hash": "bee493f5e809df2b7e68045ea8c883388f0b2caabcb0c4b116ae9a4e2d6ebbf5"
   }
  }
 },
 "nbformat": 4,
 "nbformat_minor": 2
}
